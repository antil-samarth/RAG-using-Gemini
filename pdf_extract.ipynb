{
 "cells": [
  {
   "cell_type": "code",
   "execution_count": 1,
   "metadata": {},
   "outputs": [],
   "source": [
    "import pypdf"
   ]
  },
  {
   "cell_type": "code",
   "execution_count": 3,
   "metadata": {},
   "outputs": [],
   "source": [
    "name = \"Machine-Learning-For-Dummies-ElectroVolt.ir_.pdf\""
   ]
  },
  {
   "cell_type": "code",
   "execution_count": 4,
   "metadata": {},
   "outputs": [],
   "source": [
    "reader = pypdf.PdfReader(name)"
   ]
  },
  {
   "cell_type": "code",
   "execution_count": 12,
   "metadata": {},
   "outputs": [
    {
     "name": "stdout",
     "output_type": "stream",
     "text": [
      "Introduction      1Introduction\n",
      "The term machine learning  has all sorts of meanings attached to it today, \n",
      "especially after Hollywood’s (and others’) movie studios have gotten into \n",
      "the picture. Films such as Ex Machina have tantalized the imaginations of \n",
      "moviegoers the world over and made machine learning into all sorts of things that it really isn’t. Of course, most of us have to live in the real world, where machine \n",
      "learning actually does perform an incredible array of tasks that have nothing to do \n",
      "with androids that can pass the Turing Test (fooling their makers into believing \n",
      "they’re human). Machine Learning For Dummies  provides you with a view of machine \n",
      "learning in the real world and exposes you to the amazing feats you really can perform using this technology. Even though the tasks that you perform using \n",
      "machine learning may seem a bit mundane when compared to the movie version, \n",
      "by the time you finish this book, you realize that these mundane tasks have the power to impact the lives of everyone on the planet in nearly every aspect of their \n",
      "daily lives. In short, machine learning is an incredible technology — just not in \n",
      "the way that some people have imagined.\n",
      "About This Book\n",
      "The main purpose of Machine Learning For Dummies  is to help you understand what \n",
      "machine learning can and can’t do for you today and what it might do for you in \n",
      "the future. You don’t have to be a computer scientist to use this book, even though \n",
      "it does contain many coding examples. In fact, you can come from any discipline \n",
      "that heavily emphasizes math because that’s how this book focuses on machine \n",
      "learning. Instead of dealing with abstractions, you see the concrete results of \n",
      "using specific algorithms to interact with big data in particular ways to obtain a \n",
      "certain, useful result. The emphasis is on useful because machine learning has the \n",
      "power to perform a wide array of tasks in a manner never seen before.\n",
      "Part of the emphasis of this book is on using the right tools. This book uses both \n",
      "Python and R to perform various tasks. These two languages have special features that make them particularly useful in a machine learning setting. For example, \n",
      "Python provides access to a huge array of libraries that let you do just about any-\n",
      "thing you can imagine and more than a few you can’t. Likewise, R provides an ease \n",
      "of use that few languages can match. Machine Learning For Dummies helps you under-\n",
      "stand that both languages have their role to play and gives examples of when one \n",
      "language works a bit better than the other to achieve the goals you have in mind.\n"
     ]
    }
   ],
   "source": [
    "page = reader.pages[14].extract_text()\n",
    "print(page)"
   ]
  },
  {
   "cell_type": "code",
   "execution_count": 18,
   "metadata": {},
   "outputs": [
    {
     "name": "stdout",
     "output_type": "stream",
     "text": [
      "text extracted from all pages\n",
      "Text saved to output.txt\n"
     ]
    }
   ],
   "source": [
    "# extract text from all pages and save it to a file\n",
    "\n",
    "text = \"\"\n",
    "\n",
    "for page in reader.pages:\n",
    "    page = page.extract_text()\n",
    "    if page:\n",
    "        text += page\n",
    "        text += \"\\n\"\n",
    "    \n",
    "print(\"text extracted from all pages\")\n",
    "\n",
    "with open(\"output.txt\", \"w\", encoding=\"utf-8\") as f:\n",
    "    f.write(text)\n",
    "    \n",
    "print(\"Text saved to output.txt\")"
   ]
  }
 ],
 "metadata": {
  "kernelspec": {
   "display_name": "venv",
   "language": "python",
   "name": "python3"
  },
  "language_info": {
   "codemirror_mode": {
    "name": "ipython",
    "version": 3
   },
   "file_extension": ".py",
   "mimetype": "text/x-python",
   "name": "python",
   "nbconvert_exporter": "python",
   "pygments_lexer": "ipython3",
   "version": "3.12.3"
  }
 },
 "nbformat": 4,
 "nbformat_minor": 2
}
