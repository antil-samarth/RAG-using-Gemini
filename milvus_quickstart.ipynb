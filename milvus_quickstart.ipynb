{
 "cells": [
  {
   "cell_type": "code",
   "execution_count": 2,
   "metadata": {},
   "outputs": [],
   "source": [
    "from pymilvus import connections, utility\n",
    "from pymilvus import Collection, DataType, FieldSchema, CollectionSchema\n",
    "import time\n",
    "from os import getenv\n",
    "from dotenv import load_dotenv, find_dotenv"
   ]
  },
  {
   "cell_type": "code",
   "execution_count": 22,
   "metadata": {},
   "outputs": [
    {
     "name": "stderr",
     "output_type": "stream",
     "text": [
      "e:\\RAG\\venv\\Lib\\site-packages\\tqdm\\auto.py:21: TqdmWarning: IProgress not found. Please update jupyter and ipywidgets. See https://ipywidgets.readthedocs.io/en/stable/user_install.html\n",
      "  from .autonotebook import tqdm as notebook_tqdm\n"
     ]
    }
   ],
   "source": [
    "from helper import *"
   ]
  },
  {
   "cell_type": "code",
   "execution_count": 23,
   "metadata": {},
   "outputs": [
    {
     "name": "stdout",
     "output_type": "stream",
     "text": [
      "Total chunks: 2886\n"
     ]
    }
   ],
   "source": [
    "chunks = text_splitter(\"output.txt\")"
   ]
  },
  {
   "cell_type": "code",
   "execution_count": 24,
   "metadata": {},
   "outputs": [],
   "source": [
    "embeddings = generate_embeddings(chunks)"
   ]
  },
  {
   "cell_type": "code",
   "execution_count": 3,
   "metadata": {},
   "outputs": [
    {
     "data": {
      "text/plain": [
       "True"
      ]
     },
     "execution_count": 3,
     "metadata": {},
     "output_type": "execute_result"
    }
   ],
   "source": [
    "# find the .env file and load it \n",
    "load_dotenv(find_dotenv())"
   ]
  },
  {
   "cell_type": "code",
   "execution_count": 4,
   "metadata": {},
   "outputs": [],
   "source": [
    "milvus_uri = \"https://in03-c326a50a933fb09.api.gcp-us-west1.zillizcloud.com\"\n",
    "milvus_key = getenv(\"milvus_key\")"
   ]
  },
  {
   "cell_type": "code",
   "execution_count": 5,
   "metadata": {},
   "outputs": [
    {
     "name": "stdout",
     "output_type": "stream",
     "text": [
      "Connecting to DB: https://in03-c326a50a933fb09.api.gcp-us-west1.zillizcloud.com\n"
     ]
    }
   ],
   "source": [
    "connections.connect(\"default\",\n",
    "                    uri=milvus_uri,\n",
    "                    token=milvus_key)\n",
    "\n",
    "print(f\"Connecting to DB: {milvus_uri}\")"
   ]
  },
  {
   "cell_type": "code",
   "execution_count": 8,
   "metadata": {},
   "outputs": [],
   "source": [
    "collection_name = \"Chums\""
   ]
  },
  {
   "cell_type": "code",
   "execution_count": 30,
   "metadata": {},
   "outputs": [
    {
     "name": "stdout",
     "output_type": "stream",
     "text": [
      "Creating collection: Chums\n",
      "Schema: {'auto_id': False, 'description': 'collection description', 'fields': [{'name': 'text', 'description': 'text', 'type': <DataType.VARCHAR: 21>, 'params': {'max_length': 8192}, 'is_primary': True, 'auto_id': False}, {'name': 'embedding', 'description': 'embedding', 'type': <DataType.FLOAT_VECTOR: 101>, 'params': {'dim': 384}}], 'enable_dynamic_field': False}\n",
      "Success!\n"
     ]
    }
   ],
   "source": [
    "if utility.has_collection(collection_name):\n",
    "    drop_result = utility.drop_collection(collection_name)\n",
    "\n",
    "text_field = FieldSchema(name=\"text\", dtype=DataType.VARCHAR, max_length=8192, description=\"text\", auto_id=False, is_primary=True)\n",
    "embedding_field = FieldSchema(name=\"embedding\", dtype=DataType.FLOAT_VECTOR, dim=384, description=\"embedding\", is_primary=False, auto_id=False)\n",
    "\n",
    "schema = CollectionSchema(fields=[text_field, embedding_field], description=\"collection description\")\n",
    "\n",
    "print(f\"Creating collection: {collection_name}\")\n",
    "collection = Collection(name=collection_name, schema=schema)\n",
    "print(f\"Schema: {schema}\")\n",
    "print(\"Success!\")"
   ]
  },
  {
   "cell_type": "code",
   "execution_count": 32,
   "metadata": {},
   "outputs": [
    {
     "name": "stdout",
     "output_type": "stream",
     "text": [
      "Inserting data into collection: Chums\n",
      "(insert count: 200, delete count: 0, upsert count: 0, timestamp: 449284590454702083, success count: 200, err count: 0)\n",
      "(insert count: 200, delete count: 0, upsert count: 0, timestamp: 449284590979252228, success count: 200, err count: 0)\n",
      "(insert count: 200, delete count: 0, upsert count: 0, timestamp: 449284591988244481, success count: 200, err count: 0)\n",
      "(insert count: 200, delete count: 0, upsert count: 0, timestamp: 449284592538746881, success count: 200, err count: 0)\n",
      "(insert count: 200, delete count: 0, upsert count: 0, timestamp: 449284592971284484, success count: 200, err count: 0)\n",
      "(insert count: 200, delete count: 0, upsert count: 0, timestamp: 449284593364762625, success count: 200, err count: 0)\n",
      "(insert count: 200, delete count: 0, upsert count: 0, timestamp: 449284593797300225, success count: 200, err count: 0)\n",
      "(insert count: 200, delete count: 0, upsert count: 0, timestamp: 449284594622791682, success count: 200, err count: 0)\n",
      "(insert count: 200, delete count: 0, upsert count: 0, timestamp: 449284595173294082, success count: 200, err count: 0)\n",
      "(insert count: 200, delete count: 0, upsert count: 0, timestamp: 449284595592986626, success count: 200, err count: 0)\n",
      "(insert count: 200, delete count: 0, upsert count: 0, timestamp: 449284595986202625, success count: 200, err count: 0)\n",
      "(insert count: 200, delete count: 0, upsert count: 0, timestamp: 449284596418740225, success count: 200, err count: 0)\n",
      "(insert count: 200, delete count: 0, upsert count: 0, timestamp: 449284596837908481, success count: 200, err count: 0)\n",
      "(insert count: 200, delete count: 0, upsert count: 0, timestamp: 449284597244493826, success count: 200, err count: 0)\n",
      "(insert count: 86, delete count: 0, upsert count: 0, timestamp: 449284597624340481, success count: 86, err count: 0)\n",
      "Success!\n"
     ]
    },
    {
     "data": {
      "text/plain": [
       "' print(f\"Inserting data into collection: {collection_name}\")\\n\\nins_res = collection.insert([chunks, embeddings])\\n\\nprint(ins_res)\\n    \\nprint(\"Success!\") '"
      ]
     },
     "execution_count": 32,
     "metadata": {},
     "output_type": "execute_result"
    }
   ],
   "source": [
    "# Insert data in sets of 200\n",
    "# This is to prevent the server from crashing due to too many requests\n",
    "# This is a temporary solution until we can find a better way to insert data\n",
    "# into the collection\n",
    "\n",
    "i = 0\n",
    "print(f\"Inserting data into collection: {collection_name}\")\n",
    "\n",
    "while i < len(chunks):    \n",
    "\n",
    "    ins_res = collection.insert([chunks[i:i+200], embeddings[i:i+200]])\n",
    "\n",
    "    print(ins_res)\n",
    "\n",
    "    i += 200\n",
    "    \n",
    "    time.sleep(1)\n",
    "    \n",
    "print(\"Success!\")"
   ]
  },
  {
   "cell_type": "code",
   "execution_count": 33,
   "metadata": {},
   "outputs": [
    {
     "name": "stdout",
     "output_type": "stream",
     "text": [
      "Flushing data...\n"
     ]
    }
   ],
   "source": [
    "# flush data\n",
    "print(\"Flushing data...\")\n",
    "collection.flush()"
   ]
  },
  {
   "cell_type": "code",
   "execution_count": 34,
   "metadata": {},
   "outputs": [
    {
     "name": "stdout",
     "output_type": "stream",
     "text": [
      "Creating index...\n",
      "Success!\n"
     ]
    }
   ],
   "source": [
    "# create index\n",
    "\n",
    "print(\"Creating index...\")\n",
    "\n",
    "index_params = {\"index_type\": \"AUTOINDEX\", \"metric_type\": \"L2\", \"params\": {}}\n",
    "\n",
    "collection.create_index(field_name=\"embedding\", index_params=index_params)\n",
    "\n",
    "print(\"Success!\")\n"
   ]
  },
  {
   "cell_type": "code",
   "execution_count": 35,
   "metadata": {},
   "outputs": [
    {
     "name": "stdout",
     "output_type": "stream",
     "text": [
      "Loading data...\n",
      "Success!\n"
     ]
    }
   ],
   "source": [
    "# load data into collection\n",
    "\n",
    "print(\"Loading data...\")\n",
    "collection.load()\n",
    "\n",
    "print(\"Success!\")"
   ]
  },
  {
   "cell_type": "code",
   "execution_count": 9,
   "metadata": {},
   "outputs": [
    {
     "name": "stdout",
     "output_type": "stream",
     "text": [
      "Loading collection...\n",
      "Succeed in 4.4058 seconds!\n"
     ]
    }
   ],
   "source": [
    "t0 = time.time()\n",
    "print(\"Loading collection...\")\n",
    "collection.load()\n",
    "t1 = time.time()\n",
    "print(f\"Succeed in {round(t1-t0, 4)} seconds!\")\n"
   ]
  },
  {
   "cell_type": "code",
   "execution_count": 40,
   "metadata": {},
   "outputs": [],
   "source": [
    "emb1 = generate_embeddings([\"What is Rstudio?\"])"
   ]
  },
  {
   "cell_type": "code",
   "execution_count": 43,
   "metadata": {},
   "outputs": [
    {
     "name": "stdout",
     "output_type": "stream",
     "text": [
      "Searching for similar embeddings...\n",
      "[\"id: menu, as shown in Figure 4-10. This book assumes that you use the default Start menu setup. If you choose some other location, you may need to modify procedures later in the book. FIGURE 4-8: The setup process begins by telling you that you’re installing RStudio. FIGURE 4-9: Specify an installation location for RStudio. CHAPTER 4 Installing an R Distribution 5516. Choose Start Menu Configuration (if necessary) and then click Install. You see an Installing dialog box that tells you about the installation progress. After the process completes, you see a completion dialog box appear in its place. 17. Click Finish. You’re ready to begin using RStudio. FIGURE 4-10: Define the Start menu informa- tion as needed. A WORD ABOUT THE SCREENSHOTS As you work your way through the book, you’ll use an IDE of your choice to open the R files containing the book’s source code. Every screenshot that contains IDE-specific information relies on RStudio because RStudio runs on all three platforms supported by the book. The use of RStudio doesn’t imply that it’s the best IDE or that the author is making any sort of recommendation for it — RStudio simply works well as a demonstra-tion product. When you work with RStudio, the name of the graphical (GUI) environment, the inter- face, is precisely the same across all three platforms, and you won’t even see any signifi- cant difference in the presentation. The differences you do see are minor, and you should ignore them as you work through the book. With this in mind, the book does rely heavily on Windows 7 screenshots. When working on a Linux, Mac OS X, or other Windows version platform, you should expect to see some differences in presentation, but these differences shouldn’t reduce your ability to work with the examples. 56 PART 2 Preparing Your Learning ToolsInstalling R on Linux Some versions of Linux, such as Debian, come with R installed. If this is the case, and you want to use the version you have on your system, you don’t have to install a copy of R. The version of R used for this book is 3.2.3. If you have some other version of R installed, you may not get precisely the same results as described in the book. To determine whether you have R installed, use your platform’s search tool, such as Dash, to locate R. When you start R, you see the version information in the first line of Terminal. If you can’t find an R icon anywhere on the system, you need to install R. The directions vary significantly by the kind of Linux instal - lation you have. You can find the instructions for the various Linux installations at the following locations: »Debian: https://cran.r-project.org/bin/linux/debian/ »Red Hat: https://cran.r-project.org/bin/linux/redhat/README »OpenSUSE: https://cran.r-project.org/bin/linux/suse/ »Ubuntu: https://cran.r-project.org/bin/linux/ubuntu/ When working with OpenSUSE, you’re highly recommended to use the 1-click- install option. This option automates the task and makes installation significantly easier. The resulting installation works fine for this book. The Ubuntu installation requires that, distance: 0.7378746867179871, entity: {'text': 'menu, as shown in Figure 4-10. This book assumes that you use the default Start menu setup. If you choose some other location, you may need to modify procedures later in the book. FIGURE 4-8: The setup process begins by telling you that you’re installing RStudio. FIGURE 4-9: Specify an installation location for RStudio. CHAPTER 4 Installing an R Distribution 5516. Choose Start Menu Configuration (if necessary) and then click Install. You see an Installing dialog box that tells you about the installation progress. After the process completes, you see a completion dialog box appear in its place. 17. Click Finish. You’re ready to begin using RStudio. FIGURE 4-10: Define the Start menu informa- tion as needed. A WORD ABOUT THE SCREENSHOTS As you work your way through the book, you’ll use an IDE of your choice to open the R files containing the book’s source code. Every screenshot that contains IDE-specific information relies on RStudio because RStudio runs on all three platforms supported by the book. The use of RStudio doesn’t imply that it’s the best IDE or that the author is making any sort of recommendation for it — RStudio simply works well as a demonstra-tion product. When you work with RStudio, the name of the graphical (GUI) environment, the inter- face, is precisely the same across all three platforms, and you won’t even see any signifi- cant difference in the presentation. The differences you do see are minor, and you should ignore them as you work through the book. With this in mind, the book does rely heavily on Windows 7 screenshots. When working on a Linux, Mac OS X, or other Windows version platform, you should expect to see some differences in presentation, but these differences shouldn’t reduce your ability to work with the examples. 56 PART 2 Preparing Your Learning ToolsInstalling R on Linux Some versions of Linux, such as Debian, come with R installed. If this is the case, and you want to use the version you have on your system, you don’t have to install a copy of R. The version of R used for this book is 3.2.3. If you have some other version of R installed, you may not get precisely the same results as described in the book. To determine whether you have R installed, use your platform’s search tool, such as Dash, to locate R. When you start R, you see the version information in the first line of Terminal. If you can’t find an R icon anywhere on the system, you need to install R. The directions vary significantly by the kind of Linux instal - lation you have. You can find the instructions for the various Linux installations at the following locations: »Debian: https://cran.r-project.org/bin/linux/debian/ »Red Hat: https://cran.r-project.org/bin/linux/redhat/README »OpenSUSE: https://cran.r-project.org/bin/linux/suse/ »Ubuntu: https://cran.r-project.org/bin/linux/ubuntu/ When working with OpenSUSE, you’re highly recommended to use the 1-click- install option. This option automates the task and makes installation significantly easier. The resulting installation works fine for this book. The Ubuntu installation requires that'}\", \"id: starts. You see an installer window where you can choose options, such as the language to use. 3. Click Install. The installer displays status information. You may see requests for additional information and may need to provide authentication information during the installation process. The installer eventually completes the installation process. 4. Click Continue. You’re ready to begin using RStudio. Downloading the Datasets and Example Code This book is about using R and Python to perform machine science tasks. Of course, you can spend all your time creating the example code from scratch, debugging it, and only then discovering how it relates to machine learning, or you can take the easy way and download the prewritten code so that you can get right to work. Likewise, creating datasets large enough for machine learning purposes would take quite a while. Fortunately, you can access standardized, precreated data sets quite easily using features provided in some of the machine learning libraries. The following sections help you download and use the example code and datasets so that you can save time and get right to work with machine learning– specific tasks. Understanding the datasets used in this book Most of the datasets used in this book come directly from the R datasets package. You can find a listing of these datasets at https://stat.ethz.ch/R-manual/ R-devel/library/datasets/html/00Index.html . If you want to see these data - sets in RStudio, simply type data() in a blank file, and the IDE shows it to you. Figure 4-11 shows typical output from typing data() . 60 PART 2 Preparing Your Learning ToolsIn addition to these standard datasets, the book uses supplemental datasets. In many cases, these supplemental datasets are the same as those used for Python examples and let you compare the output of R to Python. These supplemental datasets are »Boston: https://stat.ethz.ch/R-manual/R-devel/library/MASS/ html/Boston.html »Air Quality (airquality): https://stat.ethz.ch/R-manual/R-devel/ library/datasets/html/airquality.html »Titanic: https://stat.ethz.ch/R-manual/R-devel/library/datasets/ html/Titanic.html »Iris: https://stat.ethz.ch/R-manual/R-devel/library/datasets/ html/iris.html »SMS Spam Collection (sms_data): http://www.dt.fee.unicamp. br/~tiago/smsspamcollection/ In most cases, you download and use a special dataset by using a permutation of the data() function that includes the name of the dataset and the package in which it resides. For example, to use the Boston dataset, you use the data(Boston, package=“MASS”) function call. The book explores the use of datasets as needed. Defining the code repository The code you create and use in this book will reside in a repository on your hard drive. Think of a repository as a kind of filing cabinet where you put your code. RStudio makes working with a repository easy. You essentially use the same structure that you always use to store files on your system. The following sections describe how to set up RStudio for use with this book. Defining the book’s folder It pays to organize your files so that you can access them more easily later. This book’s files are in a folder called ML4D (Machine Learning For Dummies). Use these steps within RStudio to create a new folder. FIGURE 4-11: The data() function shows a list, distance: 0.7400380373001099, entity: {'text': 'starts. You see an installer window where you can choose options, such as the language to use. 3. Click Install. The installer displays status information. You may see requests for additional information and may need to provide authentication information during the installation process. The installer eventually completes the installation process. 4. Click Continue. You’re ready to begin using RStudio. Downloading the Datasets and Example Code This book is about using R and Python to perform machine science tasks. Of course, you can spend all your time creating the example code from scratch, debugging it, and only then discovering how it relates to machine learning, or you can take the easy way and download the prewritten code so that you can get right to work. Likewise, creating datasets large enough for machine learning purposes would take quite a while. Fortunately, you can access standardized, precreated data sets quite easily using features provided in some of the machine learning libraries. The following sections help you download and use the example code and datasets so that you can save time and get right to work with machine learning– specific tasks. Understanding the datasets used in this book Most of the datasets used in this book come directly from the R datasets package. You can find a listing of these datasets at https://stat.ethz.ch/R-manual/ R-devel/library/datasets/html/00Index.html . If you want to see these data - sets in RStudio, simply type data() in a blank file, and the IDE shows it to you. Figure 4-11 shows typical output from typing data() . 60 PART 2 Preparing Your Learning ToolsIn addition to these standard datasets, the book uses supplemental datasets. In many cases, these supplemental datasets are the same as those used for Python examples and let you compare the output of R to Python. These supplemental datasets are »Boston: https://stat.ethz.ch/R-manual/R-devel/library/MASS/ html/Boston.html »Air Quality (airquality): https://stat.ethz.ch/R-manual/R-devel/ library/datasets/html/airquality.html »Titanic: https://stat.ethz.ch/R-manual/R-devel/library/datasets/ html/Titanic.html »Iris: https://stat.ethz.ch/R-manual/R-devel/library/datasets/ html/iris.html »SMS Spam Collection (sms_data): http://www.dt.fee.unicamp. br/~tiago/smsspamcollection/ In most cases, you download and use a special dataset by using a permutation of the data() function that includes the name of the dataset and the package in which it resides. For example, to use the Boston dataset, you use the data(Boston, package=“MASS”) function call. The book explores the use of datasets as needed. Defining the code repository The code you create and use in this book will reside in a repository on your hard drive. Think of a repository as a kind of filing cabinet where you put your code. RStudio makes working with a repository easy. You essentially use the same structure that you always use to store files on your system. The following sections describe how to set up RStudio for use with this book. Defining the book’s folder It pays to organize your files so that you can access them more easily later. This book’s files are in a folder called ML4D (Machine Learning For Dummies). Use these steps within RStudio to create a new folder. FIGURE 4-11: The data() function shows a list'}\", \"id: installation location for RStudio. CHAPTER 4 Installing an R Distribution 5516. Choose Start Menu Configuration (if necessary) and then click Install. You see an Installing dialog box that tells you about the installation progress. After the process completes, you see a completion dialog box appear in its place. 17. Click Finish. You’re ready to begin using RStudio. FIGURE 4-10: Define the Start menu informa- tion as needed. A WORD ABOUT THE SCREENSHOTS As you work your way through the book, you’ll use an IDE of your choice to open the R files containing the book’s source code. Every screenshot that contains IDE-specific information relies on RStudio because RStudio runs on all three platforms supported by the book. The use of RStudio doesn’t imply that it’s the best IDE or that the author is making any sort of recommendation for it — RStudio simply works well as a demonstra-tion product. When you work with RStudio, the name of the graphical (GUI) environment, the inter- face, is precisely the same across all three platforms, and you won’t even see any signifi- cant difference in the presentation. The differences you do see are minor, and you should ignore them as you work through the book. With this in mind, the book does rely heavily on Windows 7 screenshots. When working on a Linux, Mac OS X, or other Windows version platform, you should expect to see some differences in presentation, but these differences shouldn’t reduce your ability to work with the examples. 56 PART 2 Preparing Your Learning ToolsInstalling R on Linux Some versions of Linux, such as Debian, come with R installed. If this is the case, and you want to use the version you have on your system, you don’t have to install a copy of R. The version of R used for this book is 3.2.3. If you have some other version of R installed, you may not get precisely the same results as described in the book. To determine whether you have R installed, use your platform’s search tool, such as Dash, to locate R. When you start R, you see the version information in the first line of Terminal. If you can’t find an R icon anywhere on the system, you need to install R. The directions vary significantly by the kind of Linux instal - lation you have. You can find the instructions for the various Linux installations at the following locations: »Debian: https://cran.r-project.org/bin/linux/debian/ »Red Hat: https://cran.r-project.org/bin/linux/redhat/README »OpenSUSE: https://cran.r-project.org/bin/linux/suse/ »Ubuntu: https://cran.r-project.org/bin/linux/ubuntu/ When working with OpenSUSE, you’re highly recommended to use the 1-click- install option. This option automates the task and makes installation significantly easier. The resulting installation works fine for this book. The Ubuntu installation requires that you make a change to the /etc/apt/ sources.list file. Make sure to create a backup for this file first by using the sudo cp /etc/apt/sources.list /etc/apt/sources.list.old command first. Use the sudo gedit /etc/apt/sources.list command to edit the file and add the required source information.After you ensure that you have R, distance: 0.7410261631011963, entity: {'text': 'installation location for RStudio. CHAPTER 4 Installing an R Distribution 5516. Choose Start Menu Configuration (if necessary) and then click Install. You see an Installing dialog box that tells you about the installation progress. After the process completes, you see a completion dialog box appear in its place. 17. Click Finish. You’re ready to begin using RStudio. FIGURE 4-10: Define the Start menu informa- tion as needed. A WORD ABOUT THE SCREENSHOTS As you work your way through the book, you’ll use an IDE of your choice to open the R files containing the book’s source code. Every screenshot that contains IDE-specific information relies on RStudio because RStudio runs on all three platforms supported by the book. The use of RStudio doesn’t imply that it’s the best IDE or that the author is making any sort of recommendation for it — RStudio simply works well as a demonstra-tion product. When you work with RStudio, the name of the graphical (GUI) environment, the inter- face, is precisely the same across all three platforms, and you won’t even see any signifi- cant difference in the presentation. The differences you do see are minor, and you should ignore them as you work through the book. With this in mind, the book does rely heavily on Windows 7 screenshots. When working on a Linux, Mac OS X, or other Windows version platform, you should expect to see some differences in presentation, but these differences shouldn’t reduce your ability to work with the examples. 56 PART 2 Preparing Your Learning ToolsInstalling R on Linux Some versions of Linux, such as Debian, come with R installed. If this is the case, and you want to use the version you have on your system, you don’t have to install a copy of R. The version of R used for this book is 3.2.3. If you have some other version of R installed, you may not get precisely the same results as described in the book. To determine whether you have R installed, use your platform’s search tool, such as Dash, to locate R. When you start R, you see the version information in the first line of Terminal. If you can’t find an R icon anywhere on the system, you need to install R. The directions vary significantly by the kind of Linux instal - lation you have. You can find the instructions for the various Linux installations at the following locations: »Debian: https://cran.r-project.org/bin/linux/debian/ »Red Hat: https://cran.r-project.org/bin/linux/redhat/README »OpenSUSE: https://cran.r-project.org/bin/linux/suse/ »Ubuntu: https://cran.r-project.org/bin/linux/ubuntu/ When working with OpenSUSE, you’re highly recommended to use the 1-click- install option. This option automates the task and makes installation significantly easier. The resulting installation works fine for this book. The Ubuntu installation requires that you make a change to the /etc/apt/ sources.list file. Make sure to create a backup for this file first by using the sudo cp /etc/apt/sources.list /etc/apt/sources.list.old command first. Use the sudo gedit /etc/apt/sources.list command to edit the file and add the required source information.After you ensure that you have R'}\"]\n"
     ]
    }
   ],
   "source": [
    "# search for similar embeddings\n",
    "\n",
    "print(\"Searching for similar embeddings...\")\n",
    "search_params = {\"metric_type\": \"L2\", \"params\": {\"nprobe\": 16}}\n",
    "query_res = collection.search(emb1, \"embedding\", search_params, limit=5, expr=None, output_fields=[\"text\"])\n",
    "\n",
    "print(query_res[0])"
   ]
  },
  {
   "cell_type": "code",
   "execution_count": 44,
   "metadata": {},
   "outputs": [],
   "source": [
    "connections.disconnect(\"default\")"
   ]
  },
  {
   "cell_type": "markdown",
   "metadata": {},
   "source": []
  }
 ],
 "metadata": {
  "kernelspec": {
   "display_name": "venv",
   "language": "python",
   "name": "python3"
  },
  "language_info": {
   "codemirror_mode": {
    "name": "ipython",
    "version": 3
   },
   "file_extension": ".py",
   "mimetype": "text/x-python",
   "name": "python",
   "nbconvert_exporter": "python",
   "pygments_lexer": "ipython3",
   "version": "3.12.3"
  }
 },
 "nbformat": 4,
 "nbformat_minor": 2
}
