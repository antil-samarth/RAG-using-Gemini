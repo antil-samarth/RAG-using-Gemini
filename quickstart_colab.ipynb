{
  "cells": [
    {
      "cell_type": "markdown",
      "metadata": {
        "id": "-QhPWE1lwZHH"
      },
      "source": [
        "# Gemini API Python quickstart"
      ]
    },
    {
      "cell_type": "code",
      "execution_count": 1,
      "metadata": {},
      "outputs": [
        {
          "name": "stderr",
          "output_type": "stream",
          "text": [
            "e:\\RAG\\venv\\Lib\\site-packages\\tqdm\\auto.py:21: TqdmWarning: IProgress not found. Please update jupyter and ipywidgets. See https://ipywidgets.readthedocs.io/en/stable/user_install.html\n",
            "  from .autonotebook import tqdm as notebook_tqdm\n"
          ]
        }
      ],
      "source": [
        "from helper import *"
      ]
    },
    {
      "cell_type": "code",
      "execution_count": 2,
      "metadata": {},
      "outputs": [
        {
          "name": "stdout",
          "output_type": "stream",
          "text": [
            "Connecting to Milvus...\n",
            "Connected to Milvus!\n"
          ]
        }
      ],
      "source": [
        "connect_milvus()"
      ]
    },
    {
      "cell_type": "code",
      "execution_count": 3,
      "metadata": {},
      "outputs": [],
      "source": [
        "Collection_name = \"Chums\""
      ]
    },
    {
      "cell_type": "code",
      "execution_count": 4,
      "metadata": {},
      "outputs": [],
      "source": [
        "collection = Collection(Collection_name)"
      ]
    },
    {
      "cell_type": "code",
      "execution_count": 5,
      "metadata": {},
      "outputs": [
        {
          "data": {
            "text/plain": [
              "True"
            ]
          },
          "execution_count": 5,
          "metadata": {},
          "output_type": "execute_result"
        }
      ],
      "source": [
        "from os import getenv\n",
        "from dotenv import load_dotenv, find_dotenv\n",
        "\n",
        "# find the .env file and load it \n",
        "load_dotenv(find_dotenv())"
      ]
    },
    {
      "cell_type": "code",
      "execution_count": 6,
      "metadata": {
        "id": "HTiaTu6O1LRC"
      },
      "outputs": [],
      "source": [
        "import google.generativeai as genai\n",
        "\n",
        "# access environment variable \n",
        "token = getenv(\"GOOGLE_API_KEY\")\n",
        "\n",
        "genai.configure(api_key=token)"
      ]
    },
    {
      "cell_type": "markdown",
      "metadata": {
        "id": "CZPYk29o2No0"
      },
      "source": [
        "## Initialize the Generative Model\n",
        "\n",
        "Before you can make any API calls, you need to initialize the Generative Model."
      ]
    },
    {
      "cell_type": "code",
      "execution_count": 7,
      "metadata": {
        "id": "s-JqXcDe2hZ_"
      },
      "outputs": [],
      "source": [
        "model = genai.GenerativeModel('gemini-pro')"
      ]
    },
    {
      "cell_type": "markdown",
      "metadata": {
        "id": "nXxypzJH4MUl"
      },
      "source": [
        "## Generate text"
      ]
    },
    {
      "cell_type": "code",
      "execution_count": 30,
      "metadata": {},
      "outputs": [],
      "source": [
        "query = \" Tell me about usage of datasets in Rstudio for data science in 50 words or less \""
      ]
    },
    {
      "cell_type": "code",
      "execution_count": 31,
      "metadata": {
        "colab": {
          "base_uri": "https://localhost:8080/",
          "height": 35
        },
        "id": "j51mcrLD4Y2W",
        "outputId": "31032ac5-68be-4f8f-8849-42330b17c44f"
      },
      "outputs": [
        {
          "name": "stdout",
          "output_type": "stream",
          "text": [
            "RStudio leverages datasets for data science tasks by providing a seamless interface for data exploration, manipulation, and analysis. Its integrated environment allows users to import, clean, transform, and visualize data from various sources, facilitating efficient data handling and insightful analysis.\n"
          ]
        }
      ],
      "source": [
        "response = model.generate_content(query)\n",
        "print(response.text)"
      ]
    },
    {
      "cell_type": "code",
      "execution_count": 10,
      "metadata": {},
      "outputs": [],
      "source": [
        "from sentence_transformers import SentenceTransformer"
      ]
    },
    {
      "cell_type": "code",
      "execution_count": 11,
      "metadata": {},
      "outputs": [],
      "source": [
        "embedding_model = SentenceTransformer(\"all-MiniLM-L12-v2\")"
      ]
    },
    {
      "cell_type": "code",
      "execution_count": 32,
      "metadata": {},
      "outputs": [],
      "source": [
        "query_embedding = embedding_model.encode([query])"
      ]
    },
    {
      "cell_type": "code",
      "execution_count": 33,
      "metadata": {},
      "outputs": [
        {
          "name": "stdout",
          "output_type": "stream",
          "text": [
            "Searching for similar embeddings...\n",
            "Search completed!\n"
          ]
        }
      ],
      "source": [
        "results = semantic_search(collection, query_embedding, 2)"
      ]
    },
    {
      "cell_type": "code",
      "execution_count": 34,
      "metadata": {},
      "outputs": [
        {
          "data": {
            "text/plain": [
              "id: 4. Click Continue. You’re ready to begin using RStudio. Downloading the Datasets and Example Code This book is about using R and Python to perform machine science tasks. Of course, you can spend all your time creating the example code from scratch, debugging it, and only then discovering how it relates to machine learning, or you can take the easy way and download the prewritten code so that you can get right to work. Likewise, creating datasets large enough for machine learning purposes would take quite a while. Fortunately, you can access standardized, precreated data sets quite easily using features provided in some of the machine learning libraries. The following sections help you download and use the example code and datasets so that you can save time and get right to work with machine learning– specific tasks. Understanding the datasets used in this book Most of the datasets used in this book come directly from the R datasets package. You can find a listing of these datasets at https://stat.ethz.ch/R-manual/ R-devel/library/datasets/html/00Index.html . If you want to see these data - sets in RStudio, simply type data() in a blank file, and the IDE shows it to you. Figure 4-11 shows typical output from typing data() . 60 PART 2 Preparing Your Learning ToolsIn addition to these standard datasets, the book uses supplemental datasets. In many cases, these supplemental datasets are the same as those used for Python examples and let you compare the output of R to Python. These supplemental datasets are »Boston: https://stat.ethz.ch/R-manual/R-devel/library/MASS/ html/Boston.html »Air Quality (airquality): https://stat.ethz.ch/R-manual/R-devel/ library/datasets/html/airquality.html »Titanic: https://stat.ethz.ch/R-manual/R-devel/library/datasets/ html/Titanic.html »Iris: https://stat.ethz.ch/R-manual/R-devel/library/datasets/ html/iris.html »SMS Spam Collection (sms_data): http://www.dt.fee.unicamp. br/~tiago/smsspamcollection/ In most cases, you download and use a special dataset by using a permutation of the data() function that includes the name of the dataset and the package in which it resides. For example, to use the Boston dataset, you use the data(Boston, package=“MASS”) function call. The book explores the use of datasets as needed. Defining the code repository The code you create and use in this book will reside in a repository on your hard drive. Think of a repository as a kind of filing cabinet where you put your code. RStudio makes working with a repository easy. You essentially use the same structure that you always use to store files on your system. The following sections describe how to set up RStudio for use with this book. Defining the book’s folder It pays to organize your files so that you can access them more easily later. This book’s files are in a folder called ML4D (Machine Learning For Dummies). Use these steps within RStudio to create a new folder. FIGURE 4-11: The data() function shows a list of datasets found in the datasets package. CHAPTER 4 Installing an R Distribution 611. Click New Folder in the Files tab. You see a New Folder dialog box, where you can type the name of the folder you want to use. 2. Type ML4D and click OK. RStudio creates a, distance: 0.5736913084983826, entity: {}"
            ]
          },
          "execution_count": 34,
          "metadata": {},
          "output_type": "execute_result"
        }
      ],
      "source": [
        "results[0][0]"
      ]
    },
    {
      "cell_type": "code",
      "execution_count": 35,
      "metadata": {},
      "outputs": [],
      "source": [
        "augmented_query = f\"User query: {query} \\n\\n\" + f\"List of Most similar sections in documentation: {results[0]}\""
      ]
    },
    {
      "cell_type": "code",
      "execution_count": 36,
      "metadata": {},
      "outputs": [
        {
          "data": {
            "text/plain": [
              "\"User query:  Tell me about usage of datasets in Rstudio for data science in 50 words or less  \\n\\nList of Most similar sections in documentation: ['id: 4. Click Continue. You’re ready to begin using RStudio. Downloading the Datasets and Example Code This book is about using R and Python to perform machine science tasks. Of course, you can spend all your time creating the example code from scratch, debugging it, and only then discovering how it relates to machine learning, or you can take the easy way and download the prewritten code so that you can get right to work. Likewise, creating datasets large enough for machine learning purposes would take quite a while. Fortunately, you can access standardized, precreated data sets quite easily using features provided in some of the machine learning libraries. The following sections help you download and use the example code and datasets so that you can save time and get right to work with machine learning– specific tasks. Understanding the datasets used in this book Most of the datasets used in this book come directly from the R datasets package. You can find a listing of these datasets at https://stat.ethz.ch/R-manual/ R-devel/library/datasets/html/00Index.html . If you want to see these data - sets in RStudio, simply type data() in a blank file, and the IDE shows it to you. Figure 4-11 shows typical output from typing data() . 60 PART 2 Preparing Your Learning ToolsIn addition to these standard datasets, the book uses supplemental datasets. In many cases, these supplemental datasets are the same as those used for Python examples and let you compare the output of R to Python. These supplemental datasets are »Boston: https://stat.ethz.ch/R-manual/R-devel/library/MASS/ html/Boston.html »Air Quality (airquality): https://stat.ethz.ch/R-manual/R-devel/ library/datasets/html/airquality.html »Titanic: https://stat.ethz.ch/R-manual/R-devel/library/datasets/ html/Titanic.html »Iris: https://stat.ethz.ch/R-manual/R-devel/library/datasets/ html/iris.html »SMS Spam Collection (sms_data): http://www.dt.fee.unicamp. br/~tiago/smsspamcollection/ In most cases, you download and use a special dataset by using a permutation of the data() function that includes the name of the dataset and the package in which it resides. For example, to use the Boston dataset, you use the data(Boston, package=“MASS”) function call. The book explores the use of datasets as needed. Defining the code repository The code you create and use in this book will reside in a repository on your hard drive. Think of a repository as a kind of filing cabinet where you put your code. RStudio makes working with a repository easy. You essentially use the same structure that you always use to store files on your system. The following sections describe how to set up RStudio for use with this book. Defining the book’s folder It pays to organize your files so that you can access them more easily later. This book’s files are in a folder called ML4D (Machine Learning For Dummies). Use these steps within RStudio to create a new folder. FIGURE 4-11: The data() function shows a list of datasets found in the datasets package. CHAPTER 4 Installing an R Distribution 611. Click New Folder in the Files tab. You see a New Folder dialog box, where you can type the name of the folder you want to use. 2. Type ML4D and click OK. RStudio creates a, distance: 0.5736913084983826, entity: {}', 'id: . . . . . . . . 57 Downloading the Datasets and Example Code . . . . . . . . . . . . . . . . . . . . 59 Understanding the datasets used in this book . . . . . . . . . . . . . . . . . 59 Defining the code repository . . . . . . . . . . . . . . . . . . . . . . . . . . . . . . . . 60 CHAPTER 5: Coding in R Using RStudio . . . . . . . . . . . . . . . . . . . . . . . . . . . . . . 63 Understanding the Basic Data Types . . . . . . . . . . . . . . . . . . . . . . . . . . . . 64 Working with Vectors . . . . . . . . . . . . . . . . . . . . . . . . . . . . . . . . . . . . . . . . . 66 Organizing Data Using Lists . . . . . . . . . . . . . . . . . . . . . . . . . . . . . . . . . . . . 66 Working with Matrices . . . . . . . . . . . . . . . . . . . . . . . . . . . . . . . . . . . . . . . . 67 Creating a basic matrix . . . . . . . . . . . . . . . . . . . . . . . . . . . . . . . . . . . . . 68 Changing the vector arrangement . . . . . . . . . . . . . . . . . . . . . . . . . . . 69 Accessing individual elements . . . . . . . . . . . . . . . . . . . . . . . . . . . . . . . 69 Naming the rows and columns . . . . . . . . . . . . . . . . . . . . . . . . . . . . . . 70 Interacting with Multiple Dimensions Using Arrays . . . . . . . . . . . . . . . . 71 Creating a basic array . . . . . . . . . . . . . . . . . . . . . . . . . . . ., distance: 0.6092009544372559, entity: {}']\""
            ]
          },
          "execution_count": 36,
          "metadata": {},
          "output_type": "execute_result"
        }
      ],
      "source": [
        "augmented_query"
      ]
    },
    {
      "cell_type": "code",
      "execution_count": 37,
      "metadata": {},
      "outputs": [
        {
          "name": "stdout",
          "output_type": "stream",
          "text": [
            "In RStudio, datasets are used to store and manage data for data science projects. They can be imported from various sources, manipulated, and analyzed using R functions and packages. Datasets provide a structured way to work with data, enabling data exploration, modeling, and statistical analysis.\n"
          ]
        }
      ],
      "source": [
        "augmented_response = model.generate_content(augmented_query)\n",
        "print(augmented_response.text)"
      ]
    },
    {
      "cell_type": "markdown",
      "metadata": {},
      "source": [
        "\"User query:  Tell me about usage of Rstudio in data science in 50 words or less  \\n\\n\n",
        "\n",
        "List of Most similar sections in documentation: \n",
        "\n",
        "You’re ready to begin using RStudio. Downloading the Datasets and Example Code This book is about using R and Python to perform machine science tasks. Of course, you can spend all your time creating the example code from scratch, debugging it, and only then discovering how it relates to machine learning, or you can take the easy way and download the prewritten code so that you can get right to work. Likewise, creating datasets large enough for machine learning purposes would take quite a while. Fortunately, you can access standardized, precreated data sets quite easily using features provided in some of the machine learning libraries. The following sections help you download and use the example code and datasets so that you can save time and get right to work with machine learning– specific tasks. Understanding the datasets used in this book Most of the datasets used in this book come directly from the R datasets package. You can find a listing of these datasets at https://stat.ethz.ch/R-manual/ R-devel/library/datasets/html/00Index.html . If you want to see these data - sets in RStudio, simply type data() in a blank file, and the IDE shows it to you. Figure 4-11 shows typical output from typing data() . 60 PART 2 Preparing Your Learning ToolsIn addition to these standard datasets, the book uses supplemental datasets. In many cases, these supplemental datasets are the same as those used for Python examples and let you compare the output of R to Python. These supplemental datasets are »Boston: https://stat.ethz.ch/R-manual/R-devel/library/MASS/ html/Boston.html »Air Quality (airquality): https://stat.ethz.ch/R-manual/R-devel/ library/datasets/html/airquality.html »Titanic: https://stat.ethz.ch/R-manual/R-devel/library/datasets/ html/Titanic.html »Iris: https://stat.ethz.ch/R-manual/R-devel/library/datasets/ html/iris.html »SMS Spam Collection (sms_data): http://www.dt.fee.unicamp. br/~tiago/smsspamcollection/ In most cases, you download and use a special dataset by using a permutation of the data() function that includes the name of the dataset and the package in which it resides. For example, to use the Boston dataset, you use the data(Boston, package=“MASS”) function call. The book explores the use of datasets as needed. Defining the code repository The code you create and use in this book will reside in a repository on your hard drive. Think of a repository as a kind of filing cabinet where you put your code. RStudio makes working with a repository easy. You essentially use the same structure that you always use to store files on your system. The following sections describe how to set up RStudio for use with this book. Defining the book’s folder It pays to organize your files so that you can access them more easily later. This book’s files are in a folder called ML4D (Machine Learning For Dummies). Use these steps within RStudio to create a new folder. FIGURE 4-11: The data() function shows a list, distance: 0.6932600736618042, entity: {}\n",
        "\n",
        "'id: 4. Click Continue. You’re ready to begin using RStudio. Downloading the Datasets and Example Code This book is about using R and Python to perform machine science tasks. Of course, you can spend all your time creating the example code from scratch, debugging it, and only then discovering how it relates to machine learning, or you can take the easy way and download the prewritten code so that you can get right to work. Likewise, creating datasets large enough for machine learning purposes would take quite a while. Fortunately, you can access standardized, precreated data sets quite easily using features provided in some of the machine learning libraries. The following sections help you download and use the example code and datasets so that you can save time and get right to work with machine learning– specific tasks. Understanding the datasets used in this book Most of the datasets used in this book come directly from the R datasets package. You can find a listing of these datasets at https://stat.ethz.ch/R-manual/ R-devel/library/datasets/html/00Index.html . If you want to see these data - sets in RStudio, simply type data() in a blank file, and the IDE shows it to you. Figure 4-11 shows typical output from typing data() . 60 PART 2 Preparing Your Learning ToolsIn addition to these standard datasets, the book uses supplemental datasets. In many cases, these supplemental datasets are the same as those used for Python examples and let you compare the output of R to Python. These supplemental datasets are »Boston: https://stat.ethz.ch/R-manual/R-devel/library/MASS/ html/Boston.html »Air Quality (airquality): https://stat.ethz.ch/R-manual/R-devel/ library/datasets/html/airquality.html »Titanic: https://stat.ethz.ch/R-manual/R-devel/library/datasets/ html/Titanic.html »Iris: https://stat.ethz.ch/R-manual/R-devel/library/datasets/ html/iris.html »SMS Spam Collection (sms_data): http://www.dt.fee.unicamp. br/~tiago/smsspamcollection/ In most cases, you download and use a special dataset by using a permutation of the data() function that includes the name of the dataset and the package in which it resides. For example, to use the Boston dataset, you use the data(Boston, package=“MASS”) function call. The book explores the use of datasets as needed. Defining the code repository The code you create and use in this book will reside in a repository on your hard drive. Think of a repository as a kind of filing cabinet where you put your code. RStudio makes working with a repository easy. You essentially use the same structure that you always use to store files on your system. The following sections describe how to set up RStudio for use with this book. Defining the book’s folder It pays to organize your files so that you can access them more easily later. This book’s files are in a folder called ML4D (Machine Learning For Dummies). Use these steps within RStudio to create a new folder. FIGURE 4-11: The data() function shows a list of datasets found in the datasets package. CHAPTER 4 Installing an R Distribution 611. Click New Folder in the Files tab. You see a New Folder dialog box, where you can type the name of the folder you want to use. 2. Type ML4D and click OK. RStudio creates a, distance: 0.7330315113067627, entity: {}"
      ]
    }
  ],
  "metadata": {
    "colab": {
      "name": "quickstart_colab.ipynb",
      "provenance": []
    },
    "kernelspec": {
      "display_name": "Python 3",
      "name": "python3"
    },
    "language_info": {
      "codemirror_mode": {
        "name": "ipython",
        "version": 3
      },
      "file_extension": ".py",
      "mimetype": "text/x-python",
      "name": "python",
      "nbconvert_exporter": "python",
      "pygments_lexer": "ipython3",
      "version": "3.12.3"
    }
  },
  "nbformat": 4,
  "nbformat_minor": 0
}
